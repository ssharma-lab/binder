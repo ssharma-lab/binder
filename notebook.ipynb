import pandas as pd
import numpy as np

arr = np.random.rand(3)
arr
