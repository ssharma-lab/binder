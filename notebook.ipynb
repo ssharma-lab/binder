import pandas as pd
import numpy as np

arr = np.random.rand(3)
#Panda Series
ser = pd.Series(arr)
#Adding index string to the Series
ser.index = ["First", "Second", "Third"]

df = pd.DataFrame(np.random.rand(3,3))
#Add column headers to the Data Frame
df.columns = ["Height", "Width", "Depth"]
#Data Types
df.dtypes

# Data Frame Row 1 by index
df.loc[1, :]
# Data Frame by Index Column
df.loc[:, "Width"]

# Data Frame by location
df.iloc[1,1]
